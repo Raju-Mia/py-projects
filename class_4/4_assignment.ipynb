{
 "cells": [
  {
   "attachments": {},
   "cell_type": "markdown",
   "metadata": {},
   "source": [
    "# Assignment Class -04"
   ]
  },
  {
   "attachments": {},
   "cell_type": "markdown",
   "metadata": {},
   "source": [
    "### 1. A = { 55, 6, 8, 9, 11} , B = {44, 55, 89,54} apply set union."
   ]
  },
  {
   "cell_type": "code",
   "execution_count": 2,
   "metadata": {},
   "outputs": [
    {
     "name": "stdout",
     "output_type": "stream",
     "text": [
      "A U B =  {6, 8, 9, 11, 44, 54, 55, 89}\n"
     ]
    }
   ],
   "source": [
    "A = {55, 6, 8, 9, 11 }\n",
    "B = {44, 55, 89, 54 }\n",
    "\n",
    "print('A U B = ', A.union(B))"
   ]
  },
  {
   "attachments": {},
   "cell_type": "markdown",
   "metadata": {},
   "source": [
    "### 2. Which data type not allow duplicate item. Give an example."
   ]
  },
  {
   "cell_type": "code",
   "execution_count": 3,
   "metadata": {},
   "outputs": [
    {
     "name": "stdout",
     "output_type": "stream",
     "text": [
      "{1, 2, 3, 4, 5, 6}\n"
     ]
    }
   ],
   "source": [
    "# set data type is unique in Python. so, set does not allow duplicate item. for example:\n",
    "\n",
    "value = {1,2,3,4,5,1,2,3,4,5,6}\n",
    "print( value )"
   ]
  },
  {
   "attachments": {},
   "cell_type": "markdown",
   "metadata": {},
   "source": [
    "### 3. B={‘Django’: 16, ‘Project’: 8, ‘Students’: 20} print keys."
   ]
  },
  {
   "cell_type": "code",
   "execution_count": 14,
   "metadata": {},
   "outputs": [
    {
     "name": "stdout",
     "output_type": "stream",
     "text": [
      "The value is  dict_values([16, 8, 20])\n",
      "The value is  dict_keys(['Django', 'Project', 'Students'])\n"
     ]
    }
   ],
   "source": [
    "B = {'Django': 16, 'Project': 8, 'Students': 20}\n",
    "print(\"The value is \", B.values())\n",
    "print(\"The value is \", B.keys())\n"
   ]
  },
  {
   "attachments": {},
   "cell_type": "markdown",
   "metadata": {},
   "source": [
    "### 4. Create a function & call the function."
   ]
  },
  {
   "cell_type": "code",
   "execution_count": 15,
   "metadata": {},
   "outputs": [
    {
     "name": "stdout",
     "output_type": "stream",
     "text": [
      "13\n"
     ]
    }
   ],
   "source": [
    "def string_length(string):\n",
    "  return len(string)\n",
    "\n",
    "result = string_length(\"Hello, World!\")\n",
    "print(result)\n"
   ]
  },
  {
   "attachments": {},
   "cell_type": "markdown",
   "metadata": {},
   "source": [
    "### 5.Create Class & Object."
   ]
  },
  {
   "cell_type": "code",
   "execution_count": 17,
   "metadata": {},
   "outputs": [
    {
     "name": "stdout",
     "output_type": "stream",
     "text": [
      " My name is RAJU\n"
     ]
    }
   ],
   "source": [
    "class Me:\n",
    "    def __init__(self, name, age):\n",
    "        self.name = name\n",
    "        self.breed = age\n",
    "\n",
    "    def bark(self):\n",
    "        print(f\" My name is {self.name}\")\n",
    "\n",
    "about = Me(\"RAJU\", \"23\")\n",
    "about.bark()\n"
   ]
  },
  {
   "attachments": {},
   "cell_type": "markdown",
   "metadata": {},
   "source": [
    "### 6. Give an example of Inheritance."
   ]
  },
  {
   "cell_type": "code",
   "execution_count": 20,
   "metadata": {},
   "outputs": [
    {
     "name": "stdout",
     "output_type": "stream",
     "text": [
      "Black dog wow\n"
     ]
    }
   ],
   "source": [
    "class Animal:\n",
    "    def __init__(self, name):\n",
    "        self.name = name\n",
    "\n",
    "    def make_sound(self):\n",
    "        pass\n",
    "\n",
    "class Dog(Animal):\n",
    "    def make_sound(self):\n",
    "        print(f\"{self.name} wow\")\n",
    "\n",
    "dog = Dog(\"Black dog\")\n",
    "dog.make_sound()\n"
   ]
  }
 ],
 "metadata": {
  "kernelspec": {
   "display_name": "Python 3",
   "language": "python",
   "name": "python3"
  },
  "language_info": {
   "codemirror_mode": {
    "name": "ipython",
    "version": 3
   },
   "file_extension": ".py",
   "mimetype": "text/x-python",
   "name": "python",
   "nbconvert_exporter": "python",
   "pygments_lexer": "ipython3",
   "version": "3.10.7"
  },
  "orig_nbformat": 4,
  "vscode": {
   "interpreter": {
    "hash": "e7370f93d1d0cde622a1f8e1c04877d8463912d04d973331ad4851f04de6915a"
   }
  }
 },
 "nbformat": 4,
 "nbformat_minor": 2
}
